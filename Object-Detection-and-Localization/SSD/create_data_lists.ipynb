{
 "cells": [
  {
   "cell_type": "code",
   "execution_count": 11,
   "metadata": {},
   "outputs": [
    {
     "name": "stdout",
     "output_type": "stream",
     "text": [
      "Requirement already satisfied: import_ipynb in c:\\users\\hp\\anaconda3\\lib\\site-packages (0.1.3)\n"
     ]
    }
   ],
   "source": [
    "#from utils import create_data_lists\n",
    "#%run  utils.ipynb \n",
    "!pip install import_ipynb\n",
    "import import_ipynb\n",
    "from utils import create_data_lists"
   ]
  },
  {
   "cell_type": "code",
   "execution_count": 3,
   "metadata": {
    "colab": {
     "base_uri": "https://localhost:8080/",
     "height": 110
    },
    "colab_type": "code",
    "executionInfo": {
     "elapsed": 552009,
     "status": "ok",
     "timestamp": 1573987892811,
     "user": {
      "displayName": "RAJAT SHARMA",
      "photoUrl": "https://lh3.googleusercontent.com/a-/AAuE7mC7oSNWMAP8-dWwKmcAEPkGB5sAyJSqVyc9zRKT=s64",
      "userId": "11938879888669728442"
     },
     "user_tz": -330
    },
    "id": "yAxbvgA7i1Ws",
    "outputId": "8ec9acc7-5a28-49db-fed2-e6c4924869ce"
   },
   "outputs": [
    {
     "name": "stdout",
     "output_type": "stream",
     "text": [
      "\n",
      "There are 5011 training images containing a total of 15033 objects. Files have been saved to /content/drive/My Drive/Computer_Vision_project/OUTPUT.\n",
      "\n",
      "There are 4952 validation images containing a total of 14856 objects. Files have been saved to /content/drive/My Drive/Computer_Vision_project/OUTPUT.\n"
     ]
    }
   ],
   "source": [
    "#from utils import create_data_lists\n",
    "\n",
    "if __name__ == '__main__':\n",
    "    #create_data_lists(voc07_path='/media/ssd/ssd data/VOC2007',voc12_path='/media/ssd/ssd data/VOC2012',output_folder='./')\n",
    "    create_data_lists(voc07_path= r'VOC_2007/',output_folder= r'OUTPUT/')\n"
   ]
  }
 ],
 "metadata": {
  "accelerator": "GPU",
  "colab": {
   "name": "create_data_lists.ipynb",
   "provenance": []
  },
  "kernelspec": {
   "display_name": "Python 3",
   "language": "python",
   "name": "python3"
  },
  "language_info": {
   "codemirror_mode": {
    "name": "ipython",
    "version": 3
   },
   "file_extension": ".py",
   "mimetype": "text/x-python",
   "name": "python",
   "nbconvert_exporter": "python",
   "pygments_lexer": "ipython3",
   "version": "3.7.3"
  }
 },
 "nbformat": 4,
 "nbformat_minor": 1
}
